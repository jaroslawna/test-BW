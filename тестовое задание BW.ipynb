{
 "cells": [
  {
   "cell_type": "code",
   "execution_count": null,
   "id": "2310bf0b",
   "metadata": {},
   "outputs": [],
   "source": [
    "import pandas as pd\n",
    "import nltk\n",
    "import re\n",
    "import numpy as np"
   ]
  },
  {
   "cell_type": "code",
   "execution_count": null,
   "id": "a7733872",
   "metadata": {},
   "outputs": [],
   "source": [
    "pd.set_option('display.max_rows', None)\n",
    "pd.set_option('display.max_columns', None)\n",
    "pd.set_option('display.max_colwidth', None)"
   ]
  },
  {
   "cell_type": "code",
   "execution_count": null,
   "id": "54f1067c",
   "metadata": {},
   "outputs": [],
   "source": [
    "path = input('Введите путь к файлу ')\n",
    "testdata = open(path, 'r')"
   ]
  },
  {
   "cell_type": "code",
   "execution_count": null,
   "id": "872d8b6f",
   "metadata": {},
   "outputs": [],
   "source": [
    "test = pd.read_csv(testdata)\n",
    "test = test.loc[test['role'] != 'client']\n",
    "test = test.reset_index(drop=True)\n",
    "length = len(test) - 1"
   ]
  },
  {
   "cell_type": "code",
   "execution_count": null,
   "id": "aa4971c0",
   "metadata": {},
   "outputs": [],
   "source": [
    "test['text'] = test.apply(lambda row: nltk.word_tokenize(row['text']), axis=1)"
   ]
  },
  {
   "cell_type": "code",
   "execution_count": null,
   "id": "dff325d9",
   "metadata": {},
   "outputs": [],
   "source": [
    "chat_flag = pd.unique(test['dlg_id'])\n",
    "chatborders = list()\n",
    "\n",
    "for flag in chat_flag:\n",
    "    number = test[test['dlg_id'] == flag].index.values.astype(int)\n",
    "    chatborders.append(number[0])\n",
    "\n",
    "chatborders.append(length)\n",
    "\n",
    "# Ищу границы диалогов"
   ]
  },
  {
   "cell_type": "code",
   "execution_count": null,
   "id": "f9dd9ef4",
   "metadata": {},
   "outputs": [],
   "source": [
    "test['text'] = pd.Series(test['text'], dtype = \"string\")"
   ]
  },
  {
   "cell_type": "code",
   "execution_count": null,
   "id": "b7779f9b",
   "metadata": {},
   "outputs": [],
   "source": [
    "test['marked'] = ''"
   ]
  },
  {
   "cell_type": "code",
   "execution_count": null,
   "id": "8dc93b0e",
   "metadata": {},
   "outputs": [],
   "source": [
    "greetings_list = ['здравствуйте', 'добрый', 'день', 'вечер', 'доброе', 'утро', 'приветствую', 'привет']\n",
    "goodbyes_list = ['свидания','встречи', 'пока', 'прощай', 'доброго']\n",
    "my_name_is = ['зовут', 'это']\n",
    "company_namings = ['компания', 'компанию', 'компании']"
   ]
  },
  {
   "cell_type": "code",
   "execution_count": null,
   "id": "afaf608e",
   "metadata": {},
   "outputs": [],
   "source": [
    "managers_greetings = {a: '' for a in range(len(chatborders) - 1)}\n",
    "managers_company = {a: '' for a in range(len(chatborders) - 1)}\n",
    "managers_names = {a: '' for a in range(len(chatborders) - 1)}\n",
    "# Генерирую словари по границам диалогов"
   ]
  },
  {
   "cell_type": "code",
   "execution_count": null,
   "id": "14338c98",
   "metadata": {},
   "outputs": [],
   "source": [
    "def marker(lst, data, border, uptol, downtol):\n",
    "    for line in lst:\n",
    "        if test['marked'].iloc[border + uptol:border + downtol].any() == True:\n",
    "            break\n",
    "        test['marked'].iloc[border + uptol:border + downtol] = test['text'].iloc[border + uptol:border + downtol].str.contains(line, case=False, regex=False)\n",
    "# Для проверки условия \"менеджер поздоровался и попрощался, отмечаю все границы диалогов плюс допуск. Uptol - uptolerance и downtol - downtolerance - коэффиценты насколько можно отходить от границ диалогов\""
   ]
  },
  {
   "cell_type": "code",
   "execution_count": null,
   "id": "51150412",
   "metadata": {},
   "outputs": [],
   "source": [
    "for border in chatborders[:-1]:\n",
    "    marker(greetings_list, test, border, 0, 3)"
   ]
  },
  {
   "cell_type": "code",
   "execution_count": null,
   "id": "97486852",
   "metadata": {},
   "outputs": [],
   "source": [
    "for border in chatborders[1:-1]:\n",
    "    border += 1\n",
    "    marker(goodbyes_list, test, border, -4, -1)"
   ]
  },
  {
   "cell_type": "code",
   "execution_count": null,
   "id": "635b374e",
   "metadata": {},
   "outputs": [],
   "source": [
    "marker(goodbyes_list, test, length, 0, 0)"
   ]
  },
  {
   "cell_type": "code",
   "execution_count": null,
   "id": "09ed2070",
   "metadata": {},
   "outputs": [],
   "source": [
    "test['marked'] = test['marked'].map({True:1, False:0})"
   ]
  },
  {
   "cell_type": "code",
   "execution_count": null,
   "id": "cfee70cf",
   "metadata": {},
   "outputs": [],
   "source": [
    "chatborders1 = str(chatborders)\n",
    "x = 0\n",
    "for index in range((len(chatborders1))):\n",
    "    chat1 = test['marked'].iloc[chatborders[index]:chatborders[index + 1]]\n",
    "    result = chat1.sum()\n",
    "    lst = list()\n",
    "    if result >= 2:\n",
    "        lst.append(True)\n",
    "    else:\n",
    "        lst.append(False)\n",
    "    phrases_ind = list((chat1.loc[chat1 == 1]).index)\n",
    "    for ind in phrases_ind:\n",
    "        phrase = str(test.loc[ind]['text'])\n",
    "        phrase = re.sub(\"[.,!']\", \"\", phrase)\n",
    "        lst.append(phrase)\n",
    "    managers_greetings[x] = lst\n",
    "    if index == 5:\n",
    "        break\n",
    "    x += 1\n",
    "\n",
    "# Проверяю условие, записываю в список значение и записываю туда же фразы приветсвия и прощания. Потом список становится значением словаря"
   ]
  },
  {
   "cell_type": "code",
   "execution_count": null,
   "id": "bfb1c356",
   "metadata": {},
   "outputs": [],
   "source": [
    "test['to be extracted'] = ''"
   ]
  },
  {
   "cell_type": "code",
   "execution_count": null,
   "id": "fbe36bde",
   "metadata": {},
   "outputs": [],
   "source": [
    "def extractor(lst, data, border, uptol, downtol):\n",
    "    for line in lst:\n",
    "        if test['to be extracted'].iloc[border + uptol:border + downtol].any() == True:\n",
    "            break\n",
    "        ex_lst = test['text'].iloc[border + uptol:border + downtol].str.contains(line, case=False, regex=False)\n",
    "        index1 = list((ex_lst.loc[ex_lst == True]).index)\n",
    "        return index1, line\n",
    "# Функция для \"вытаскивания\" индексов нужных ячеек и ключевых слов в этих ячейках"
   ]
  },
  {
   "cell_type": "code",
   "execution_count": null,
   "id": "0f9c3ccd",
   "metadata": {},
   "outputs": [],
   "source": [
    "def name_func(index1, line, uptol, downtol, POS):\n",
    "    n_list = list()\n",
    "    n_phrase = str(test['text'][index1])\n",
    "    n_phrase1 = re.sub(\"[.,!']\", \"\", n_phrase)\n",
    "    n_list.append(n_phrase1)\n",
    "    n_phrase1 = n_phrase1.split()\n",
    "    n_index = n_phrase1.index(line)\n",
    "    name = n_phrase1[n_index + uptol:n_index + downtol]\n",
    "    from nltk import pos_tag\n",
    "    name_pos = dict(pos_tag(name))\n",
    "    name1 = list()\n",
    "    for key in name_pos:\n",
    "        if name_pos.get(key) == POS:\n",
    "            name1.append(key)\n",
    "            \n",
    "    n_list.append(name1)\n",
    "    return n_list\n",
    "\n",
    "# Функция для анализа содержимого ячеек и выбора необходимых слов по значению части речи. Развернутый комментарий по этой функции в конце"
   ]
  },
  {
   "cell_type": "code",
   "execution_count": null,
   "id": "19829386",
   "metadata": {},
   "outputs": [],
   "source": [
    "x = 0\n",
    "for border in chatborders[:]:\n",
    "    index1, line = extractor(company_namings, test, border, 0, 3)\n",
    "    if len(index1) == 0:\n",
    "        managers_company[x] = None\n",
    "    else:\n",
    "        company1 = name_func(index1, line, 0, 4, 'NNP')\n",
    "        managers_company[x] = company1\n",
    "    x += 1\n",
    "# Ищу названия компаний"
   ]
  },
  {
   "cell_type": "code",
   "execution_count": null,
   "id": "bda8ff54",
   "metadata": {},
   "outputs": [],
   "source": [
    "test['to be extracted'] = ''"
   ]
  },
  {
   "cell_type": "code",
   "execution_count": null,
   "id": "2ddfa04d",
   "metadata": {},
   "outputs": [],
   "source": [
    "x = 0\n",
    "for border in chatborders[:-1]:\n",
    "    index1, line = extractor(my_name_is, test, border, 0, 3)\n",
    "    if len(index1) == 0:\n",
    "        managers_names[x] = None\n",
    "    else:\n",
    "        name1 = name_func(index1, line, -1, 2, 'NN')\n",
    "        managers_names[x] = name1\n",
    "    x += 1\n",
    "# Ищу названия имена менеджеров"
   ]
  },
  {
   "cell_type": "code",
   "execution_count": null,
   "id": "1beb5452",
   "metadata": {},
   "outputs": [],
   "source": [
    "for x in range(len(chatborders) - 1):\n",
    "    name_manager = managers_names[x]\n",
    "    print('РАЗГОВОР ' + str(x + 1))\n",
    "    if name_manager is None:\n",
    "        print('Менеджер разговора ' + str(x + 1) + ' не представился')\n",
    "    else: \n",
    "        print('В разговоре ' + str(x + 1) + ' учавствовал менеджер ' + str(name_manager[-1]) + ', о чем было сообщено вот так: ' + str(name_manager[0]))\n",
    "    comp = managers_company[x]\n",
    "    \n",
    "    if comp is None:\n",
    "        print('Менеджер разговора ' + str(x + 1) + ' не назвал компанию')\n",
    "    else:\n",
    "        print('Менеджер разговора назвал компанию ' + str(comp[-1]))\n",
    "    greet = managers_greetings[x]\n",
    "    if greet[0] == True:\n",
    "        print('Менеджер разговора ' + str(x + 1) + ' поздоровалась и попрощался(ась), умничка! Вот как это было: ' + '\\n' + str(greet[1:]))\n",
    "    elif (greet[0] == False and len(greet) != 1):\n",
    "        print('Менеджер разговора ' + str(x + 1) + ' не совсем вежлив:' + '\\n' + str(greet[1]) + '\\nИ это все, менеджер разговора ' + str(x + 1) + '?:(')\n",
    "    else:\n",
    "        print('Менеджер разговора ' + str(x + 1) + ' совсем невежливо себя ведет! Где же привет и пока?')"
   ]
  },
  {
   "cell_type": "code",
   "execution_count": null,
   "id": "17f5f61c",
   "metadata": {},
   "outputs": [],
   "source": [
    "# По результатам работы name_func можно отметить следующее:\n",
    "# (одного менеджера зовут \"компания\", а фирма называется \"китобизнес удобно\")\n",
    "# Функция POS-tagging в NLTK очень слабая. Я рассчитывала, что она хотя бы сможет показывать верно глаголы и \n",
    "# местоимения, чтобы по ним можно было отделить от других сущностей, пусть она бы ошиблась в, например, \"диджитал бизнес\"\n",
    "# Но она оказалась совсем слабой, и пришлось намеренно, при поиске имен, вытаскивать слова с частью речи NN, хотя,\n",
    "# по идее, это должно было быть NNP. \n",
    "# Вероятно, подошел бы другой POS-tagging, хотя лучший, что я видела, считался SOTA и был успешен лишь в 60% случаев.\n",
    "# Самый надежный вариант - самый топорный - собрать изначально названия всех компаний и имена менеджеров в отдельный набор\n",
    "# и по ним уже искать."
   ]
  }
 ],
 "metadata": {
  "kernelspec": {
   "display_name": "Python 3 (ipykernel)",
   "language": "python",
   "name": "python3"
  },
  "language_info": {
   "codemirror_mode": {
    "name": "ipython",
    "version": 3
   },
   "file_extension": ".py",
   "mimetype": "text/x-python",
   "name": "python",
   "nbconvert_exporter": "python",
   "pygments_lexer": "ipython3",
   "version": "3.9.0"
  }
 },
 "nbformat": 4,
 "nbformat_minor": 5
}
